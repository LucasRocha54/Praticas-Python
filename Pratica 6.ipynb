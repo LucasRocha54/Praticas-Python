{
 "metadata": {
  "language_info": {
   "codemirror_mode": {
    "name": "ipython",
    "version": 3
   },
   "file_extension": ".py",
   "mimetype": "text/x-python",
   "name": "python",
   "nbconvert_exporter": "python",
   "pygments_lexer": "ipython3",
   "version": "3.8.3-final"
  },
  "orig_nbformat": 2,
  "kernelspec": {
   "name": "python3",
   "display_name": "Python 3.8.3 64-bit ('lucas': virtualenv)",
   "metadata": {
    "interpreter": {
     "hash": "8003219c8c57211ee3be347d121ba14ebad7276cdae3d94be72d9e4e17f9edd5"
    }
   }
  }
 },
 "nbformat": 4,
 "nbformat_minor": 2,
 "cells": [
  {
   "cell_type": "code",
   "execution_count": 4,
   "metadata": {},
   "outputs": [],
   "source": [
    "# Importar biblioteca pyodbc:\n",
    "import pyodbc\n",
    "\n",
    "# Importar a biblioteca Pandas:\n",
    "import pandas as pd"
   ]
  },
  {
   "cell_type": "code",
   "execution_count": 5,
   "metadata": {},
   "outputs": [],
   "source": [
    "# Classe para conexão com o banco de dados:\n",
    "class ConexaoBD ():\n",
    "    def conexao (self):\n",
    "        return pyodbc.connect (driver = '{SQL Server Native Client 11.0}', server = 'LUCASROCHA', database = 'empresa', trusted_connection = 'yes', uid = 'Lucas Willian')"
   ]
  },
  {
   "cell_type": "code",
   "execution_count": 9,
   "metadata": {},
   "outputs": [],
   "source": [
    "# Instanciar um objeto da classe para conexão com o banco de dados:\n",
    "bd = ConexaoBD ()\n",
    "# Pegar uma conexão com o banco de dados:\n",
    "conexao = bd.conexao ()"
   ]
  },
  {
   "cell_type": "code",
   "execution_count": 13,
   "metadata": {},
   "outputs": [],
   "source": [
    "# Classe Categoria:\n",
    "class Categoria:\n",
    "    def __init__ (self, conexao):\n",
    "        self.conexao = conexao\n",
    "\n",
    "    def inserir (self):\n",
    "        dml = ''' insert into Categoria (nome, descricao) values ('Telefonia', 'Aparelho telefônico'), ('Informática', 'Computador portátil'), ('Roupa', 'Vestuário'), ('Calçado', 'Vestuário'); '''\n",
    "\n",
    "        with self.conexao:\n",
    "            cursor = self.conexao.cursor ()\n",
    "            cursor.execute (dml)\n",
    "\n",
    "# Instanciar objeto da classe Categoria:\n",
    "categoria = Categoria (conexao)\n",
    "# Inserir um registro no banco de dados:\n",
    "categoria.inserir ()"
   ]
  },
  {
   "cell_type": "code",
   "execution_count": 33,
   "metadata": {},
   "outputs": [
    {
     "output_type": "error",
     "ename": "IntegrityError",
     "evalue": "('23000', \"[23000] [Microsoft][SQL Server Native Client 11.0][SQL Server]Violação da restrição PRIMARY KEY 'PK__Vendedor__D836E71EC534508F'. Não é possível inserir a chave duplicada no objeto 'dbo.Vendedor'. O valor de chave duplicada é (111.111.111-11). (2627) (SQLExecDirectW); [23000] [Microsoft][SQL Server Native Client 11.0][SQL Server]A instrução foi finalizada. (3621)\")",
     "traceback": [
      "\u001b[1;31m---------------------------------------------------------------------------\u001b[0m",
      "\u001b[1;31mIntegrityError\u001b[0m                            Traceback (most recent call last)",
      "\u001b[1;32m<ipython-input-33-24d6ca97b5f0>\u001b[0m in \u001b[0;36m<module>\u001b[1;34m\u001b[0m\n\u001b[0;32m     23\u001b[0m \u001b[0mvendedor\u001b[0m \u001b[1;33m=\u001b[0m \u001b[0mVendedor\u001b[0m \u001b[1;33m(\u001b[0m\u001b[0mconexao\u001b[0m\u001b[1;33m)\u001b[0m\u001b[1;33m\u001b[0m\u001b[1;33m\u001b[0m\u001b[0m\n\u001b[0;32m     24\u001b[0m \u001b[1;31m# Inserir um registro no banco de dados:\u001b[0m\u001b[1;33m\u001b[0m\u001b[1;33m\u001b[0m\u001b[1;33m\u001b[0m\u001b[0m\n\u001b[1;32m---> 25\u001b[1;33m \u001b[0mvendedor\u001b[0m\u001b[1;33m.\u001b[0m\u001b[0minserir\u001b[0m \u001b[1;33m(\u001b[0m\u001b[1;33m)\u001b[0m\u001b[1;33m\u001b[0m\u001b[1;33m\u001b[0m\u001b[0m\n\u001b[0m",
      "\u001b[1;32m<ipython-input-33-24d6ca97b5f0>\u001b[0m in \u001b[0;36minserir\u001b[1;34m(self)\u001b[0m\n\u001b[0;32m     18\u001b[0m         \u001b[1;32mwith\u001b[0m \u001b[0mself\u001b[0m\u001b[1;33m.\u001b[0m\u001b[0mconexao\u001b[0m\u001b[1;33m:\u001b[0m\u001b[1;33m\u001b[0m\u001b[1;33m\u001b[0m\u001b[0m\n\u001b[0;32m     19\u001b[0m             \u001b[0mcursor\u001b[0m \u001b[1;33m=\u001b[0m \u001b[0mself\u001b[0m\u001b[1;33m.\u001b[0m\u001b[0mconexao\u001b[0m\u001b[1;33m.\u001b[0m\u001b[0mcursor\u001b[0m \u001b[1;33m(\u001b[0m\u001b[1;33m)\u001b[0m\u001b[1;33m\u001b[0m\u001b[1;33m\u001b[0m\u001b[0m\n\u001b[1;32m---> 20\u001b[1;33m             \u001b[0mcursor\u001b[0m\u001b[1;33m.\u001b[0m\u001b[0mexecute\u001b[0m \u001b[1;33m(\u001b[0m\u001b[0mdml\u001b[0m\u001b[1;33m)\u001b[0m\u001b[1;33m\u001b[0m\u001b[1;33m\u001b[0m\u001b[0m\n\u001b[0m\u001b[0;32m     21\u001b[0m \u001b[1;33m\u001b[0m\u001b[0m\n\u001b[0;32m     22\u001b[0m \u001b[1;31m# Instanciar objeto da classe Vendedor:\u001b[0m\u001b[1;33m\u001b[0m\u001b[1;33m\u001b[0m\u001b[1;33m\u001b[0m\u001b[0m\n",
      "\u001b[1;31mIntegrityError\u001b[0m: ('23000', \"[23000] [Microsoft][SQL Server Native Client 11.0][SQL Server]Violação da restrição PRIMARY KEY 'PK__Vendedor__D836E71EC534508F'. Não é possível inserir a chave duplicada no objeto 'dbo.Vendedor'. O valor de chave duplicada é (111.111.111-11). (2627) (SQLExecDirectW); [23000] [Microsoft][SQL Server Native Client 11.0][SQL Server]A instrução foi finalizada. (3621)\")"
     ]
    }
   ],
   "source": [
    "# Classe Vendedor:\n",
    "class Vendedor:\n",
    "    def __init__ (self, conexao):\n",
    "        self.conexao = conexao\n",
    "\n",
    "    def inserir (self):\n",
    "        dml = ''' insert into Vendedor (cpf, nome, email, telefone, endereco) values \n",
    "        ('111.111.111-11', 'Ana', 'ana@ana.com.br', '(11) 1 1111-1111', 'Rua n.1, n. 1, Bairro 1, Cidade 1, MG'),\n",
    "        ('222.222.222-22', 'Bruno', 'bruno@bruno.com.br', '(22) 2 2222-2222', 'Rua n.2, n. 2, Bairro 2, Cidade 2, MG'),\n",
    "        ('333.333.333-33', 'Carla', 'carla@carla.com.br', '(33) 3 3333-3333', 'Rua n.3, n. 3, Bairro 3, Cidade 3, MG'),\n",
    "        ('444.444.444-44', 'Diego', 'diego@diego.com.br', '(44) 4 4444-4444', 'Rua n.4, n. 4, Bairro 4, Cidade 4, MG'),\n",
    "        ('555.555.555-55', 'Elis', 'elis@elis.com.br', '(55) 5 5555-5555', 'Rua n.5, n. 5, Bairro 5, Cidade 5, MG'),\n",
    "        ('666.666.666-66', 'Fábio', 'fabio@fabio.com.br', '(66) 6 6666-6666', 'Rua n.6, n. 6, Bairro 6, Cidade 6, MG'),\n",
    "        ('777.777.777-77', 'Gisele', 'gisele@gisele.com.br', '(77) 7 7777-7777', 'Rua n.7, n. 7, Bairro 7, Cidade 7, MG'),\n",
    "        ('888.888.888-88', 'Heitor', 'heitor@heitor.com.br', '(88) 8 8888-8888', 'Rua n.8, n. 8, Bairro 8, Cidade 8, MG'),\n",
    "        ('999.999.999-99', 'Iris', 'iris@iris.com.br', '(99) 9 9999-9999', 'Rua n.9, n. 9, Bairro 9, Cidade 9, MG');\n",
    "        '''\n",
    "        with self.conexao:\n",
    "            cursor = self.conexao.cursor ()\n",
    "            cursor.execute (dml)\n",
    "\n",
    "# Instanciar objeto da classe Vendedor:\n",
    "vendedor = Vendedor (conexao)\n",
    "# Inserir um registro no banco de dados:\n",
    "vendedor.inserir ()\n"
   ]
  },
  {
   "cell_type": "code",
   "execution_count": 16,
   "metadata": {},
   "outputs": [],
   "source": [
    "# Classe Produto:\n",
    "class Produto:\n",
    "    def __init__ (self, conexao):\n",
    "        self.conexao = conexao\n",
    "\n",
    "    def inserir (self):\n",
    "        dml = ''' insert into Produto (nome, descricao, marca, id_categoria) values\n",
    "        ('Celular', 'Celular 1', 'Apple', 1),\n",
    "        ('Celular', 'Celular 2', 'Samsung', 1),\n",
    "        ('Celular', 'Celular 3', 'Xiaomi', 1),\n",
    "        ('Notebook', 'Notebook 1', 'Apple', 2),\n",
    "        ('Notebook', 'Notebook 2', 'Samsung', 2),\n",
    "        ('Notebook', 'Notebook 3', 'Xiaomi', 2),\n",
    "        ('Camisa', 'Camisa 1', 'Nike', 3),\n",
    "        ('Calça', 'Calça 1', 'Nike', 3),\n",
    "        ('Tênis', 'Tênis 1', 'Nike', 4),\n",
    "        ('Camisa', 'Camisa 2', 'Adidas', 3),\n",
    "        ('Calça', 'Calça 2', 'Adidas', 3),\n",
    "        ('Tênis', 'Tênis 2', 'Adidas', 4),\n",
    "        ('Camisa', 'Camisa 3', 'Zara', 3),\n",
    "        ('Calça', 'Calça 3', 'Zara', 3),\n",
    "        ('Tênis', 'Tênis 3', 'Zara', 4);\n",
    "        '''\n",
    "        with self.conexao:\n",
    "            cursor = self.conexao.cursor ()\n",
    "            cursor.execute (dml)\n",
    "\n",
    "# Instanciar objeto da classe Vendedor:\n",
    "produto = Produto (conexao)\n",
    "# Inserir um registro no banco de dados:\n",
    "produto.inserir ()"
   ]
  },
  {
   "cell_type": "code",
   "execution_count": 32,
   "metadata": {
    "tags": []
   },
   "outputs": [
    {
     "output_type": "stream",
     "name": "stdout",
     "text": "('100.535.206.29', 'rodrigo', 'rodrigo@gmail.com')\n('111.111.111-11', 'Ana', 'ana@ana.com.br')\n('222.222.222-22', 'Bruno', 'bruno@bruno.com.br')\n('333.333.333-33', 'Carla', 'carla@carla.com.br')\n('444.444.444-44', 'Diego', 'diego@diego.com.br')\n('555.555.555-55', 'Elis', 'elis@elis.com.br')\n('666.666.666-66', 'Fábio', 'fabio@fabio.com.br')\n('777.777.777-77', 'Gisele', 'gisele@gisele.com.br')\n('888.888.888-88', 'Heitor', 'heitor@heitor.com.br')\n('999.999.999-99', 'Iris', 'iris@iris.com.br')\n"
    }
   ],
   "source": [
    "# Classe Vendedor:\n",
    "class Vendedor:\n",
    "    def __init__ (self, conexao):\n",
    "        self.conexao = conexao\n",
    "\n",
    "    def buscar (self):\n",
    "        sql = ''' select v.cpf as CPF, v.nome as Vendedor, v.email as 'E-mail' from Vendedor v\n",
    "        '''        \n",
    "        with self.conexao:\n",
    "            cursor = self.conexao.cursor ()\n",
    "            cursor.execute (sql)\n",
    "            for linha in cursor:\n",
    "                print (linha)\n",
    "# Instanciar objeto da classe Vendedor:\n",
    "vendedor = Vendedor (conexao)\n",
    "# Ler os registros do banco de dados:\n",
    "vendedor.buscar ()"
   ]
  },
  {
   "cell_type": "code",
   "execution_count": 17,
   "metadata": {
    "tags": []
   },
   "outputs": [
    {
     "output_type": "stream",
     "name": "stdout",
     "text": [
      "              CPF Vendedor                E-mail\n0  111.111.111-11      Ana        ana@ana.com.br\n1  222.222.222-22    Bruno    bruno@bruno.com.br\n2  333.333.333-33    Carla    carla@carla.com.br\n3  444.444.444-44    Diego    diego@diego.com.br\n4  555.555.555-55     Elis      elis@elis.com.br\n5  666.666.666-66    Fábio    fabio@fabio.com.br\n6  777.777.777-77   Gisele  gisele@gisele.com.br\n7  888.888.888-88   Heitor  heitor@heitor.com.br\n8  999.999.999-99     Iris      iris@iris.com.br\n<class 'pandas.core.frame.DataFrame'>\n"
     ]
    }
   ],
   "source": [
    "# Classe Vendedor:\n",
    "class Vendedor:\n",
    "    def __init__ (self, conexao):\n",
    "        self.conexao = conexao\n",
    "\n",
    "    def buscarPandas (self):\n",
    "        sql = ''' select v.cpf as CPF, v.nome as Vendedor, v.email as 'E-mail' from Vendedor v\n",
    "        '''\n",
    "        data_frame = pd.read_sql_query (sql, self.conexao)\n",
    "        print (data_frame)\n",
    "        print (type (data_frame))\n",
    "# Instanciar objeto da classe Vendedor:\n",
    "vendedor = Vendedor (conexao)\n",
    "# Ler os registros do banco de dados:\n",
    "vendedor.buscarPandas ()\n"
   ]
  },
  {
   "cell_type": "code",
   "execution_count": 37,
   "metadata": {
    "tags": []
   },
   "outputs": [
    {
     "output_type": "stream",
     "name": "stdout",
     "text": "Empty DataFrame\nColumns: [CPF, Vendedor, Produto, Marca, Categoria, Qtde, Preço]\nIndex: []\n<class 'pandas.core.frame.DataFrame'>\n"
    }
   ],
   "source": [
    "# Classe Vendedor:\n",
    "class Vendedor:\n",
    "    def __init__ (self, conexao):\n",
    "        self.conexao = conexao\n",
    "        \n",
    "    def pesquisarPandas (self):\n",
    "        sql = ''' select v.cpf as CPF, v.nome as Vendedor,\n",
    "        p.nome as Produto, p.marca as Marca,\n",
    "        c.nome as Categoria,\n",
    "        vp.quantidade as Qtde, vp.preco as Preço from Vendedor v, VendedorProduto vp, Produto p, Categoria c where v.cpf = vp.cpf_vendedor and vp.id = p.id and p.id_categoria = c.id;\n",
    "        '''\n",
    "        data_frame = pd.read_sql_query (sql, self.conexao)\n",
    "        print (data_frame)\n",
    "        print (type (data_frame))\n",
    "# Instanciar objeto da classe Vendedor:\n",
    "vendedor = Vendedor (conexao)\n",
    "# Ler os registros do banco de dados:\n",
    "vendedor.pesquisarPandas ()"
   ]
  },
  {
   "cell_type": "code",
   "execution_count": 18,
   "metadata": {
    "tags": []
   },
   "outputs": [
    {
     "output_type": "stream",
     "name": "stdout",
     "text": [
      "              CPF Vendedor\n0  333.333.333-33    Carla\n<class 'pandas.core.frame.DataFrame'>\n"
     ]
    }
   ],
   "source": [
    "# Classe Vendedor:\n",
    "class Vendedor:\n",
    "    def __init__ (self, conexao):\n",
    "        self.conexao = conexao\n",
    "\n",
    "    def buscar (self):\n",
    "        sql = ''' select v.cpf as CPF, v.nome as Vendedor from Vendedor v where v.nome like '%rl%';\n",
    "        '''\n",
    "\n",
    "        data_frame = pd.read_sql_query (sql, self.conexao)\n",
    "        print (data_frame)\n",
    "        print (type (data_frame))\n",
    "# Instanciar objeto da classe Vendedor:\n",
    "vendedor = Vendedor (conexao)\n",
    "# Pesquisa:\n",
    "vendedor.buscar ()"
   ]
  },
  {
   "cell_type": "code",
   "execution_count": 39,
   "metadata": {
    "tags": []
   },
   "outputs": [
    {
     "output_type": "stream",
     "name": "stdout",
     "text": "Empty DataFrame\nColumns: [CPF, Vendedor, Produto, Preço]\nIndex: []\n<class 'pandas.core.frame.DataFrame'>\n"
    }
   ],
   "source": [
    "# Classe Vendedor:\n",
    "class Vendedor:\n",
    "    def __init__ (self, conexao):\n",
    "        self.conexao = conexao\n",
    "\n",
    "    def buscar (self):\n",
    "        sql = ''' select v.cpf as CPF, v.nome as Vendedor, p.nome as Produto, vp.preco as Preço from Vendedor v, VendedorProduto vp, Produto p where v.cpf = vp.cpf_vendedor and vp.id_produto = p.id and vp.preco between 80 and 200;\n",
    "        '''\n",
    "\n",
    "        data_frame = pd.read_sql_query (sql, self.conexao)\n",
    "        print (data_frame)\n",
    "        print (type (data_frame))\n",
    "# Instanciar objeto da classe Vendedor:\n",
    "vendedor = Vendedor (conexao)\n",
    "# Pesquisa:\n",
    "vendedor.buscar ()\n"
   ]
  },
  {
   "cell_type": "code",
   "execution_count": 19,
   "metadata": {
    "tags": []
   },
   "outputs": [
    {
     "output_type": "stream",
     "name": "stdout",
     "text": [
      "    Produto\n0     Calça\n1    Camisa\n2   Celular\n3  Notebook\n4     Tênis\n<class 'pandas.core.frame.DataFrame'>\n"
     ]
    }
   ],
   "source": [
    "# Classe Produto:\n",
    "class Produto:\n",
    "    def __init__ (self, conexao):\n",
    "        self.conexao = conexao\n",
    "    def buscar (self):\n",
    "        sql = ''' select distinct p.nome as Produto from Produto p\n",
    "        '''\n",
    "        data_frame = pd.read_sql_query (sql, self.conexao)\n",
    "        print (data_frame)\n",
    "        print (type (data_frame))\n",
    "# Instanciar objeto da classe Vendedor:\n",
    "produto = Produto (conexao)\n",
    "# Inserir um registro no banco de dados:\n",
    "produto.buscar ()\n"
   ]
  },
  {
   "cell_type": "code",
   "execution_count": 41,
   "metadata": {
    "tags": []
   },
   "outputs": [
    {
     "output_type": "stream",
     "name": "stdout",
     "text": "Empty DataFrame\nColumns: [CPF, Vendedor]\nIndex: []\n<class 'pandas.core.frame.DataFrame'>\n"
    }
   ],
   "source": [
    "# Classe Vendedor:\n",
    "class Vendedor:\n",
    "    def __init__ (self, conexao):\n",
    "        self.conexao = conexao\n",
    "\n",
    "    def buscar (self):\n",
    "        sql = ''' select v.cpf as CPF, v.nome as Vendedor from Vendedor v where v.cpf in (select vp.cpf_vendedor from VendedorProduto vp);\n",
    "        '''\n",
    "        data_frame = pd.read_sql_query (sql, self.conexao)\n",
    "        print (data_frame)\n",
    "        print (type (data_frame))\n",
    "# Instanciar objeto da classe Vendedor:\n",
    "vendedor = Vendedor (conexao)\n",
    "# Ler os registros do banco de dados:\n",
    "vendedor.buscar ()"
   ]
  },
  {
   "cell_type": "code",
   "execution_count": 20,
   "metadata": {
    "tags": []
   },
   "outputs": [
    {
     "output_type": "stream",
     "name": "stdout",
     "text": [
      "Empty DataFrame\nColumns: [CPF, Vendedor]\nIndex: []\n<class 'pandas.core.frame.DataFrame'>\n"
     ]
    }
   ],
   "source": [
    "# Classe Vendedor:\n",
    "class Vendedor:\n",
    "    def __init__ (self, conexao):\n",
    "        self.conexao = conexao\n",
    "\n",
    "    def buscar (self):\n",
    "        sql = ''' select v.cpf as CPF, v.nome as Vendedor from Vendedor v where exists (select vp.cpf_vendedor from VendedorProduto vp where v.cpf = vp.cpf_vendedor);\n",
    "        '''\n",
    "        data_frame = pd.read_sql_query (sql, self.conexao)\n",
    "        print (data_frame)\n",
    "        print (type (data_frame))\n",
    "# Instanciar objeto da classe Vendedor:\n",
    "vendedor = Vendedor (conexao)\n",
    "# Ler os registros do banco de dados:\n",
    "vendedor.buscar ()"
   ]
  },
  {
   "cell_type": "code",
   "execution_count": 43,
   "metadata": {
    "tags": []
   },
   "outputs": [
    {
     "output_type": "stream",
     "name": "stdout",
     "text": "Empty DataFrame\nColumns: [CPF, Vendedor]\nIndex: []\n<class 'pandas.core.frame.DataFrame'>\n"
    }
   ],
   "source": [
    "# Classe Vendedor:\n",
    "class Vendedor:\n",
    "    def __init__ (self, conexao):\n",
    "        self.conexao = conexao\n",
    "    def buscar (self):\n",
    "        sql = ''' select v.cpf as CPF, v.nome as Vendedor from Vendedor v where v.cpf not in (select vp.cpf_vendedor from VendedorProduto vp);\n",
    "        '''\n",
    "        data_frame = pd.read_sql_query (sql, self.conexao)\n",
    "        print (data_frame)\n",
    "        print (type (data_frame))\n",
    "# Instanciar objeto da classe Vendedor:\n",
    "vendedor = Vendedor (conexao)\n",
    "# Ler os registros do banco de dados:\n",
    "vendedor.buscar ()"
   ]
  },
  {
   "cell_type": "code",
   "execution_count": 21,
   "metadata": {
    "tags": []
   },
   "outputs": [
    {
     "output_type": "stream",
     "name": "stdout",
     "text": [
      "              CPF Vendedor\n0  111.111.111-11      Ana\n1  222.222.222-22    Bruno\n2  333.333.333-33    Carla\n3  444.444.444-44    Diego\n4  555.555.555-55     Elis\n5  666.666.666-66    Fábio\n6  777.777.777-77   Gisele\n7  888.888.888-88   Heitor\n8  999.999.999-99     Iris\n<class 'pandas.core.frame.DataFrame'>\n"
     ]
    }
   ],
   "source": [
    "# Classe Vendedor:\n",
    "class Vendedor:\n",
    "    def __init__ (self, conexao):\n",
    "        self.conexao = conexao\n",
    "    def buscar (self):\n",
    "        sql = ''' select v.cpf as CPF, v.nome as Vendedor from Vendedor v where not exists (select vp.cpf_vendedor from VendedorProduto vp where v.cpf = vp.cpf_vendedor);\n",
    "        '''\n",
    "        data_frame = pd.read_sql_query (sql, self.conexao)\n",
    "        print (data_frame)\n",
    "        print (type (data_frame))\n",
    "# Instanciar objeto da classe Vendedor:\n",
    "vendedor = Vendedor (conexao)\n",
    "# Ler os registros do banco de dados:\n",
    "vendedor.buscar ()"
   ]
  },
  {
   "cell_type": "code",
   "execution_count": 22,
   "metadata": {
    "tags": []
   },
   "outputs": [
    {
     "output_type": "stream",
     "name": "stdout",
     "text": [
      "  Preço Máximo\n0         None\n<class 'pandas.core.frame.DataFrame'>\n"
     ]
    }
   ],
   "source": [
    "# Classe VendedorProduto:\n",
    "class VendedorProduto:\n",
    "    def __init__ (self, conexao):\n",
    "        self.conexao = conexao\n",
    "\n",
    "    def buscar (self):\n",
    "        sql = ''' select max (preco) as 'Preço Máximo' from VendedorProduto\n",
    "        '''\n",
    "        data_frame = pd.read_sql_query (sql, self.conexao)\n",
    "        print (data_frame)\n",
    "        print (type (data_frame))\n",
    "# Instanciar objeto da classe Vendedor:\n",
    "vendedor_produto = VendedorProduto (conexao)\n",
    "# Pesquisar:\n",
    "vendedor_produto.buscar ()"
   ]
  },
  {
   "cell_type": "code",
   "execution_count": 56,
   "metadata": {
    "tags": []
   },
   "outputs": [
    {
     "output_type": "stream",
     "name": "stdout",
     "text": "Preço Máximo\n0           6.0\n<class 'pandas.core.frame.DataFrame'>\n"
    }
   ],
   "source": [
    "# Classe VendedorProduto:\n",
    "class VendedorProduto:\n",
    "    def __init__ (self, conexao):\n",
    "        self.conexao = conexao\n",
    "\n",
    "    def buscar (self):\n",
    "        sql = ''' select min (preco) as 'Preço Máximo' from VendedorProduto\n",
    "        '''\n",
    "        data_frame = pd.read_sql_query (sql, self.conexao)\n",
    "        print (data_frame)\n",
    "        print (type (data_frame))\n",
    "# Instanciar objeto da classe Vendedor:\n",
    "vendedor_produto = VendedorProduto (conexao)\n",
    "# Pesquisar:\n",
    "vendedor_produto.buscar ()"
   ]
  },
  {
   "cell_type": "code",
   "execution_count": 23,
   "metadata": {
    "tags": []
   },
   "outputs": [
    {
     "output_type": "stream",
     "name": "stdout",
     "text": [
      "  Preço Máximo\n0         None\n<class 'pandas.core.frame.DataFrame'>\n"
     ]
    }
   ],
   "source": [
    "# Classe VendedorProduto:\n",
    "class VendedorProduto:\n",
    "    def __init__ (self, conexao):\n",
    "        self.conexao = conexao\n",
    "    def buscar (self):\n",
    "        sql = ''' select avg (preco) as 'Preço Máximo' from VendedorProduto\n",
    "        '''\n",
    "        data_frame = pd.read_sql_query (sql, self.conexao)\n",
    "        print (data_frame)\n",
    "        print (type (data_frame))\n",
    "# Instanciar objeto da classe Vendedor:\n",
    "vendedor_produto = VendedorProduto (conexao)\n",
    "# Pesquisar:\n",
    "vendedor_produto.buscar ()"
   ]
  },
  {
   "cell_type": "code",
   "execution_count": 60,
   "metadata": {
    "tags": []
   },
   "outputs": [
    {
     "output_type": "stream",
     "name": "stdout",
     "text": "Preço Máximo\n0           6.0\n<class 'pandas.core.frame.DataFrame'>\n"
    }
   ],
   "source": [
    "# Classe VendedorProduto:\n",
    "class VendedorProduto:\n",
    "    def __init__ (self, conexao):\n",
    "        self.conexao = conexao\n",
    "    def buscar (self):\n",
    "        sql = ''' select sum (preco) as 'Preço Máximo' from VendedorProduto\n",
    "        '''\n",
    "        data_frame = pd.read_sql_query (sql, self.conexao)\n",
    "        print (data_frame)\n",
    "        print (type (data_frame))\n",
    "# Instanciar objeto da classe Vendedor:\n",
    "vendedor_produto = VendedorProduto (conexao)\n",
    "# Pesquisar:\n",
    "vendedor_produto.buscar ()"
   ]
  },
  {
   "cell_type": "code",
   "execution_count": 24,
   "metadata": {
    "tags": []
   },
   "outputs": [
    {
     "output_type": "stream",
     "name": "stdout",
     "text": [
      "   Contagem\n0         0\n<class 'pandas.core.frame.DataFrame'>\n"
     ]
    }
   ],
   "source": [
    "# Classe VendedorProduto:\n",
    "class VendedorProduto:\n",
    "    def __init__ (self, conexao):\n",
    "        self.conexao = conexao\n",
    "    def buscar (self):\n",
    "        sql = ''' select count (id) as 'Contagem' from VendedorProduto\n",
    "        '''\n",
    "        data_frame = pd.read_sql_query (sql, self.conexao)\n",
    "        print (data_frame)\n",
    "        print (type (data_frame))\n",
    "# Instanciar objeto da classe Vendedor:\n",
    "vendedor_produto = VendedorProduto (conexao)\n",
    "# Pesquisar:\n",
    "vendedor_produto.buscar ()"
   ]
  },
  {
   "cell_type": "code",
   "execution_count": 25,
   "metadata": {
    "tags": []
   },
   "outputs": [
    {
     "output_type": "stream",
     "name": "stdout",
     "text": [
      "Empty DataFrame\nColumns: [Produto, Categoria, Qtde, Preço]\nIndex: []\n<class 'pandas.core.frame.DataFrame'>\n"
     ]
    }
   ],
   "source": [
    "# Classe Produto:\n",
    "class Produto:\n",
    "    def __init__ (self, conexao):\n",
    "        self.conexao = conexao\n",
    "    def buscar (self):\n",
    "        sql = ''' select p.nome as Produto, c.nome as Categoria, vp.quantidade as Qtde, vp.preco as Preço from Produto p, Categoria c, VendedorProduto vp where vp.id_produto = p.id and p.id_categoria = c.id group by p.nome, c.nome, vp.quantidade, vp.preco\n",
    "        '''\n",
    "        data_frame = pd.read_sql_query (sql, self.conexao)\n",
    "        print (data_frame)\n",
    "        print (type (data_frame))\n",
    "# Instanciar objeto da classe Vendedor:\n",
    "produto = Produto (conexao)\n",
    "# Pesquisar:\n",
    "produto.buscar ()"
   ]
  },
  {
   "cell_type": "code",
   "execution_count": 26,
   "metadata": {
    "tags": []
   },
   "outputs": [
    {
     "output_type": "stream",
     "name": "stdout",
     "text": [
      "Empty DataFrame\nColumns: [Produto, Categoria, Qtde, Preço]\nIndex: []\n<class 'pandas.core.frame.DataFrame'>\n"
     ]
    }
   ],
   "source": [
    "# Classe Produto:\n",
    "class Produto:\n",
    "    def __init__ (self, conexao):\n",
    "        self.conexao = conexao\n",
    "    def buscar (self):\n",
    "        sql = ''' select p.nome as Produto, c.nome as Categoria, vp.quantidade as Qtde, vp.preco as Preço from Produto p, Categoria c, VendedorProduto vp where vp.id_produto = p.id and p.id_categoria = c.id group by p.nome, c.nome, vp.quantidade, \n",
    "        vp.preco having vp.preco > 500\n",
    "        '''\n",
    "        data_frame = pd.read_sql_query (sql, self.conexao)\n",
    "        print (data_frame)\n",
    "        print (type (data_frame))\n",
    "# Instanciar objeto da classe Vendedor:\n",
    "produto = Produto (conexao)\n",
    "# Pesquisar:\n",
    "produto.buscar ()"
   ]
  },
  {
   "cell_type": "code",
   "execution_count": 67,
   "metadata": {
    "tags": []
   },
   "outputs": [
    {
     "output_type": "stream",
     "name": "stdout",
     "text": "Empty DataFrame\nColumns: [Produto, Categoria, Qtde, Preco]\nIndex: []\n<class 'pandas.core.frame.DataFrame'>\n"
    }
   ],
   "source": [
    "# Classe Produto:\n",
    "class Produto:\n",
    "    def __init__ (self, conexao):\n",
    "        self.conexao = conexao\n",
    "    def buscar (self):\n",
    "        sql = ''' select p.nome as Produto, c.nome as Categoria, vp.quantidade as Qtde, vp.preco as Preco from Produto p, Categoria c, VendedorProduto vp where vp.id_produto = p.id and p.id_categoria = c.id group by p.nome, c.nome, vp.quantidade, \n",
    "        vp.preco having vp.preco > 500 order by c.nome asc, vp.preco desc\n",
    "        '''\n",
    "        data_frame = pd.read_sql_query (sql, self.conexao)\n",
    "        print (data_frame)\n",
    "        print (type (data_frame))\n",
    "# Instanciar objeto da classe Vendedor:\n",
    "produto = Produto (conexao)\n",
    "# Pesquisar:\n",
    "produto.buscar ()"
   ]
  },
  {
   "cell_type": "code",
   "execution_count": 27,
   "metadata": {
    "tags": []
   },
   "outputs": [
    {
     "output_type": "stream",
     "name": "stdout",
     "text": [
      "Empty DataFrame\nColumns: [CPF, Vendedor, Qtde, Preco, Produto, Categoria]\nIndex: []\n<class 'pandas.core.frame.DataFrame'>\n"
     ]
    }
   ],
   "source": [
    "# Classe Vendedor:\n",
    "class Vendedor:\n",
    "    def __init__ (self, conexao):\n",
    "        self.conexao = conexao\n",
    "    def buscar (self):\n",
    "        sql = ''' select v.cpf as CPF, v.nome as Vendedor, vp.quantidade as Qtde, vp.preco as Preco, p.nome as Produto, c.nome as Categoria from Vendedor v\n",
    "        inner join VendedorProduto vp on v.cpf = vp.cpf_vendedor\n",
    "        inner join Produto p on vp.id_produto = p.id\n",
    "        inner join Categoria c on p.id_categoria = c.id\n",
    "        order by v.cpf;\n",
    "        '''\n",
    "\n",
    "        data_frame = pd.read_sql_query (sql, self.conexao)\n",
    "        print (data_frame)\n",
    "        print (type (data_frame))\n",
    " # Instanciar objeto da classe Vendedor:\n",
    "vendedor = Vendedor (conexao)\n",
    "# Pesquisa:\n",
    "vendedor.buscar ()"
   ]
  },
  {
   "cell_type": "code",
   "execution_count": 28,
   "metadata": {
    "tags": []
   },
   "outputs": [
    {
     "output_type": "stream",
     "name": "stdout",
     "text": [
      "              CPF Vendedor  Qtde Preco Produto Categoria\n0  111.111.111-11      Ana  None  None    None      None\n1  222.222.222-22    Bruno  None  None    None      None\n2  333.333.333-33    Carla  None  None    None      None\n3  444.444.444-44    Diego  None  None    None      None\n4  555.555.555-55     Elis  None  None    None      None\n5  666.666.666-66    Fábio  None  None    None      None\n6  777.777.777-77   Gisele  None  None    None      None\n7  888.888.888-88   Heitor  None  None    None      None\n8  999.999.999-99     Iris  None  None    None      None\n<class 'pandas.core.frame.DataFrame'>\n"
     ]
    }
   ],
   "source": [
    "# Classe Vendedor:\n",
    "class Vendedor:\n",
    "    def __init__ (self, conexao):\n",
    "        self.conexao = conexao\n",
    "    def buscar (self):\n",
    "        sql = ''' select v.cpf as CPF, v.nome as Vendedor, vp.quantidade as Qtde, vp.preco as Preco, p.nome as Produto, c.nome as Categoria\n",
    "        from Vendedor v\n",
    "        left join VendedorProduto vp on v.cpf = vp.cpf_vendedor\n",
    "        left join Produto p on vp.id_produto = p.id\n",
    "        left join Categoria c on p.id_categoria = c.id\n",
    "        order by v.cpf;\n",
    "        '''\n",
    "\n",
    "        data_frame = pd.read_sql_query (sql, self.conexao)\n",
    "        print (data_frame)\n",
    "        print (type (data_frame))\n",
    "# Instanciar objeto da classe Vendedor:\n",
    "vendedor = Vendedor (conexao)\n",
    "# Pesquisa:\n",
    "vendedor.buscar ()"
   ]
  },
  {
   "cell_type": "code",
   "execution_count": 70,
   "metadata": {
    "tags": []
   },
   "outputs": [
    {
     "output_type": "stream",
     "name": "stdout",
     "text": "CPF Vendedor  Qtde Preco Produto          Categoria\n0   None     None  None  None    None          celulares\n1   None     None  None  None    None          celulares\n2   None     None  None  None    None             livros\n3   None     None  None  None    None  eletroeletrônicos\n4   None     None  None  None    None          alimentos\n5   None     None  None  None    None             livros\n6   None     None  None  None    None            cozinha\n7   None     None  None  None    None        Informatica\n8   None     None  None  None    None          Telefonia\n9   None     None  None  None    None        Informática\n10  None     None  None  None    None              Roupa\n11  None     None  None  None    None            Calçado\n12  None     None  None  None    None          Telefonia\n13  None     None  None  None    None        Informática\n14  None     None  None  None    None              Roupa\n15  None     None  None  None    None            Calçado\n<class 'pandas.core.frame.DataFrame'>\n"
    }
   ],
   "source": [
    "# Classe Vendedor:\n",
    "class Vendedor:\n",
    "    def __init__ (self, conexao):\n",
    "        self.conexao = conexao\n",
    "    def buscar (self):\n",
    "        sql = ''' select v.cpf as CPF, v.nome as Vendedor, vp.quantidade as Qtde, vp.preco as Preco, p.nome as Produto, c.nome as Categoria\n",
    "        from Vendedor v\n",
    "        right join VendedorProduto vp on v.cpf = vp.cpf_vendedor\n",
    "        right join Produto p on vp.id_produto = p.id\n",
    "        right join Categoria c on p.id_categoria = c.id\n",
    "        order by v.cpf;\n",
    "        '''\n",
    "\n",
    "        data_frame = pd.read_sql_query (sql, self.conexao)\n",
    "        print (data_frame)\n",
    "        print (type (data_frame))\n",
    "# Instanciar objeto da classe Vendedor:\n",
    "vendedor = Vendedor (conexao)\n",
    "# Pesquisa:\n",
    "vendedor.buscar ()"
   ]
  },
  {
   "cell_type": "code",
   "execution_count": 29,
   "metadata": {
    "tags": []
   },
   "outputs": [
    {
     "output_type": "stream",
     "name": "stdout",
     "text": [
      "               CPF Vendedor  Qtde Preco   Produto  Categoria\n0             None     None  None  None   Celular  celulares\n1             None     None  None  None   Celular  celulares\n2             None     None  None  None   Celular  celulares\n3             None     None  None  None  Notebook           \n4             None     None  None  None  Notebook           \n..             ...      ...   ...   ...       ...        ...\n59  555.555.555-55     Elis  None  None      None       None\n60  666.666.666-66    Fábio  None  None      None       None\n61  777.777.777-77   Gisele  None  None      None       None\n62  888.888.888-88   Heitor  None  None      None       None\n63  999.999.999-99     Iris  None  None      None       None\n\n[64 rows x 6 columns]\n<class 'pandas.core.frame.DataFrame'>\n"
     ]
    }
   ],
   "source": [
    "# Classe Vendedor:\n",
    "class Vendedor:\n",
    "    def __init__ (self, conexao):\n",
    "        self.conexao = conexao\n",
    "    def buscar (self):\n",
    "        sql = ''' select v.cpf as CPF, v.nome as Vendedor, vp.quantidade as Qtde, vp.preco as Preco, p.nome as Produto, c.nome as Categoria\n",
    "        from Vendedor v\n",
    "        full join VendedorProduto vp on v.cpf = vp.cpf_vendedor\n",
    "        full join Produto p on vp.id_produto = p.id\n",
    "        full join Categoria c on p.id_categoria = c.id\n",
    "        order by v.cpf;\n",
    "        '''\n",
    "\n",
    "        data_frame = pd.read_sql_query (sql, self.conexao)\n",
    "        print (data_frame)\n",
    "        print (type (data_frame))\n",
    "# Instanciar objeto da classe Vendedor:\n",
    "vendedor = Vendedor (conexao)\n",
    "# Pesquisa:\n",
    "vendedor.buscar ()\n"
   ]
  },
  {
   "cell_type": "code",
   "execution_count": 72,
   "metadata": {
    "tags": []
   },
   "outputs": [
    {
     "output_type": "stream",
     "name": "stdout",
     "text": "Produto          Categoria\n0   rodrigo          alimentos\n1   rodrigo            Calçado\n2   rodrigo            Calçado\n3   rodrigo          celulares\n4   rodrigo          celulares\n5   rodrigo            cozinha\n6   rodrigo  eletroeletrônicos\n7   rodrigo        Informatica\n8   rodrigo        Informática\n9   rodrigo        Informática\n10  rodrigo             livros\n11  rodrigo             livros\n12  rodrigo              Roupa\n13  rodrigo              Roupa\n14  rodrigo          Telefonia\n15  rodrigo          Telefonia\n<class 'pandas.core.frame.DataFrame'>\n"
    }
   ],
   "source": [
    "# Classe Produto:\n",
    "class Produto:\n",
    "    def __init__ (self, conexao):\n",
    "        self.conexao = conexao\n",
    "    def buscar (self):\n",
    "        sql = ''' select p.nome as Produto, c.nome as Categoria\n",
    "        from Produto p\n",
    "        cross join Categoria c\n",
    "        order by p.nome, c.nome;\n",
    "        '''\n",
    "        data_frame = pd.read_sql_query (sql, self.conexao)\n",
    "        print (data_frame)\n",
    "        print (type (data_frame))\n",
    "# Instanciar objeto da classe Vendedor:\n",
    "produto = Produto (conexao)\n",
    "# Pesquisar:\n",
    "produto.buscar ()"
   ]
  },
  {
   "cell_type": "code",
   "execution_count": 30,
   "metadata": {
    "tags": []
   },
   "outputs": [
    {
     "output_type": "stream",
     "name": "stdout",
     "text": [
      "  Vendedor\n0     Elis\n1     Iris\n<class 'pandas.core.frame.DataFrame'>\n"
     ]
    }
   ],
   "source": [
    "# Exercicio 1\n",
    "class Vendedor:\n",
    "    def __init__ (self, conexao):\n",
    "        self.conexao = conexao\n",
    "    def buscar (self):\n",
    "        sql = ''' select v.nome as Vendedor\n",
    "            from Vendedor v\n",
    "            where v.nome like '%s';\n",
    "            '''\n",
    "\n",
    "        data_frame = pd.read_sql_query (sql, self.conexao)\n",
    "        print (data_frame)\n",
    "        print (type (data_frame))\n",
    "# Instanciar objeto da classe Vendedor:\n",
    "vendedor = Vendedor (conexao)\n",
    "# Pesquisa:\n",
    "vendedor.buscar ()"
   ]
  },
  {
   "cell_type": "code",
   "execution_count": 9,
   "metadata": {
    "tags": []
   },
   "outputs": [
    {
     "output_type": "stream",
     "name": "stdout",
     "text": "Empty DataFrame\nColumns: [Vendedor]\nIndex: []\n<class 'pandas.core.frame.DataFrame'>\n"
    }
   ],
   "source": [
    "# Exercicio 2\n",
    "class Vendedor:\n",
    "    def __init__ (self, conexao):\n",
    "        self.conexao = conexao\n",
    "    def buscar (self):\n",
    "        sql = ''' select v.nome as Vendedor\n",
    "            from Vendedor v, VendedorProduto vp, Produto p\n",
    "            where v.cpf = vp.cpf_vendedor and\n",
    "            vp.id_produto = p.id and\n",
    "            vp.preco between 10 and 50 or vp.preco between 100 and 500\n",
    "            group by v.nome;\n",
    "            '''\n",
    "\n",
    "        data_frame = pd.read_sql_query (sql, self.conexao)\n",
    "        print (data_frame)\n",
    "        print (type (data_frame))\n",
    "# Instanciar objeto da classe Vendedor:\n",
    "vendedor = Vendedor (conexao)\n",
    "# Pesquisa:\n",
    "vendedor.buscar ()"
   ]
  },
  {
   "cell_type": "code",
   "execution_count": 31,
   "metadata": {
    "tags": []
   },
   "outputs": [
    {
     "output_type": "stream",
     "name": "stdout",
     "text": [
      "  Preço Máximo\n0         None\n<class 'pandas.core.frame.DataFrame'>\n"
     ]
    }
   ],
   "source": [
    "# Exercicio 3\n",
    "class VendedorProduto:\n",
    "    def __init__ (self, conexao):\n",
    "        self.conexao = conexao\n",
    "    def buscar (self):\n",
    "        sql = ''' select sum (preco * quantidade) as 'Preço Máximo'\n",
    "            from VendedorProduto vp, Vendedor v where vp.cpf_vendedor = v.cpf and v.nome = 'Ana'\n",
    "            '''\n",
    "        data_frame = pd.read_sql_query (sql, self.conexao)\n",
    "        print (data_frame)\n",
    "        print (type (data_frame))\n",
    "# Instanciar objeto da classe Vendedor:\n",
    "vendedor_produto = VendedorProduto (conexao)\n",
    "# Pesquisar:\n",
    "vendedor_produto.buscar ()"
   ]
  },
  {
   "cell_type": "code",
   "execution_count": 11,
   "metadata": {
    "tags": []
   },
   "outputs": [
    {
     "output_type": "stream",
     "name": "stdout",
     "text": "Preço Máximo\n0         None\n<class 'pandas.core.frame.DataFrame'>\n"
    }
   ],
   "source": [
    "# Exercicio 4\n",
    "class VendedorProduto:\n",
    "    def __init__ (self, conexao):\n",
    "        self.conexao = conexao\n",
    "    def buscar (self):\n",
    "        sql = ''' select sum (preco * quantidade) as 'Preço Máximo'\n",
    "            from VendedorProduto vp, Vendedor v where vp.cpf_vendedor = v.cpf\n",
    "            '''\n",
    "        data_frame = pd.read_sql_query (sql, self.conexao)\n",
    "        print (data_frame)\n",
    "        print (type (data_frame))\n",
    "# Instanciar objeto da classe Vendedor:\n",
    "vendedor_produto = VendedorProduto (conexao)\n",
    "# Pesquisar:\n",
    "vendedor_produto.buscar ()"
   ]
  },
  {
   "cell_type": "code",
   "execution_count": 12,
   "metadata": {
    "tags": []
   },
   "outputs": [
    {
     "output_type": "stream",
     "name": "stdout",
     "text": "Empty DataFrame\nColumns: [nome, vendas]\nIndex: []\n<class 'pandas.core.frame.DataFrame'>\n"
    }
   ],
   "source": [
    "# Exercicio 5\n",
    "class VendedorProduto:\n",
    "    def __init__ (self, conexao):\n",
    "        self.conexao = conexao\n",
    "    def buscar (self):\n",
    "        sql = ''' select top 1 v.nome, sm.vendas from (select cpf_vendedor, sum (preco * quantidade) as 'vendas'\n",
    "              from VendedorProduto\n",
    "              group by cpf_vendedor) as sm inner join Vendedor v on v.cpf = sm.cpf_vendedor order by sm.vendas desc\n",
    "            '''\n",
    "        data_frame = pd.read_sql_query (sql, self.conexao)\n",
    "        print (data_frame)\n",
    "        print (type (data_frame))\n",
    "# Instanciar objeto da classe Vendedor:\n",
    "vendedor_produto = VendedorProduto (conexao)\n",
    "# Pesquisar:\n",
    "vendedor_produto.buscar ()"
   ]
  },
  {
   "cell_type": "code",
   "execution_count": 32,
   "metadata": {
    "tags": []
   },
   "outputs": [
    {
     "output_type": "stream",
     "name": "stdout",
     "text": [
      "       \n0  None\n<class 'pandas.core.frame.DataFrame'>\n"
     ]
    }
   ],
   "source": [
    "# Exercicio 6\n",
    "class VendedorProduto:\n",
    "    def __init__ (self, conexao):\n",
    "        self.conexao = conexao\n",
    "    def buscar (self):\n",
    "        sql = ''' select cast(avg(vendas) as decimal(10, 2)) from (select sum (preco * quantidade) as 'vendas'\n",
    "              from VendedorProduto\n",
    "              group by cpf_vendedor) as sm\n",
    "            '''\n",
    "        data_frame = pd.read_sql_query (sql, self.conexao)\n",
    "        print (data_frame)\n",
    "        print (type (data_frame))\n",
    "# Instanciar objeto da classe Vendedor:\n",
    "vendedor_produto = VendedorProduto (conexao)\n",
    "# Pesquisar:\n",
    "vendedor_produto.buscar ()"
   ]
  },
  {
   "cell_type": "code",
   "execution_count": 14,
   "metadata": {
    "tags": []
   },
   "outputs": [
    {
     "output_type": "stream",
     "name": "stdout",
     "text": "Empty DataFrame\nColumns: [nome, vendas]\nIndex: []\n<class 'pandas.core.frame.DataFrame'>\n"
    }
   ],
   "source": [
    "# Exercicio 7\n",
    "class Vendedor:\n",
    "    def __init__ (self, conexao):\n",
    "        self.conexao = conexao\n",
    "\n",
    "    def buscar (self):\n",
    "        sql = '''select v.nome, sm.vendas from  (select cpf_vendedor, sum (preco * quantidade) as 'vendas'\n",
    "              from VendedorProduto\n",
    "              group by cpf_vendedor) as sm inner join Vendedor v on v.cpf = sm.cpf_vendedor where sm.vendas > (select avg(sm1.vendas) from                  (select sum (preco * quantidade) as 'vendas'\n",
    "              from VendedorProduto\n",
    "              group by cpf_vendedor) as sm1) \n",
    "              \n",
    "        '''\n",
    "        data_frame = pd.read_sql_query (sql, self.conexao)\n",
    "        print (data_frame)\n",
    "        print (type (data_frame))\n",
    "\n",
    "vendedor = Vendedor (conexao)\n",
    "\n",
    "vendedor.buscar ()"
   ]
  }
 ]
}