{
 "metadata": {
  "language_info": {
   "codemirror_mode": {
    "name": "ipython",
    "version": 3
   },
   "file_extension": ".py",
   "mimetype": "text/x-python",
   "name": "python",
   "nbconvert_exporter": "python",
   "pygments_lexer": "ipython3",
   "version": "3.8.3-final"
  },
  "orig_nbformat": 2,
  "kernelspec": {
   "name": "python3",
   "display_name": "Python 3.8.3 64-bit (conda)",
   "metadata": {
    "interpreter": {
     "hash": "8003219c8c57211ee3be347d121ba14ebad7276cdae3d94be72d9e4e17f9edd5"
    }
   }
  }
 },
 "nbformat": 4,
 "nbformat_minor": 2,
 "cells": [
  {
   "cell_type": "code",
   "execution_count": 1,
   "metadata": {},
   "outputs": [],
   "source": [
    "# Importar biblioteca pyodbc:\n",
    "import pyodbc"
   ]
  },
  {
   "cell_type": "code",
   "execution_count": 2,
   "metadata": {},
   "outputs": [],
   "source": [
    "# Classe para conexão com o banco de dados:\n",
    "class ConexaoBD ():\n",
    "    def conectar (self):\n",
    "        return pyodbc.connect (driver = '{SQL Server Native Client 11.0}', server = 'LUCASROCHA', database = 'empresa', trusted_connection = 'yes', uid = 'Lucas Willian')\n",
    "\n",
    "# Pegar uma conexão com o banco de dados:\n",
    "bd = ConexaoBD ()\n",
    "conexao = bd.conectar ()"
   ]
  },
  {
   "cell_type": "code",
   "execution_count": 3,
   "metadata": {},
   "outputs": [],
   "source": [
    "# Classe Tables:\n",
    "class Tables:\n",
    "    def __init__ (self, conexao):\n",
    "        self.conexao = conexao\n",
    "\n",
    "    def criar (self):\n",
    "        ddl = '''\n",
    "            CREATE TABLE Categoria (\n",
    "                id int primary key identity (1, 1), -- identity (inicio, incremento): especifica o valor inicial e de incremento dos valores gerados para a primary key.\n",
    "                nome varchar (32),\n",
    "                descricao text\n",
    "            );\n",
    "\n",
    "            CREATE TABLE Vendedor (\n",
    "                cpf varchar (14) primary key,\n",
    "                nome varchar (128),\n",
    "                email varchar (128),\n",
    "                telefone varchar (20),\n",
    "                endereco varchar (256)\n",
    "            );\n",
    "\n",
    "            CREATE TABLE Produto (\n",
    "                id int primary key identity (1, 1), -- identity (inicio, incremento): especifica o valor inicial e de incremento dos valores gerados para a primary key.\n",
    "                nome varchar (128),\n",
    "                descricao text,\n",
    "                marca varchar (32),\n",
    "                id_categoria int foreign key references Categoria (id)\n",
    "            );\n",
    "\n",
    "            CREATE TABLE VendedorProduto (\n",
    "                id int primary key identity (1, 1), -- identity (inicio, incremento): especifica o valor inicial e de incremento dos valores gerados para a primary key.\n",
    "                cpf_vendedor varchar (14) foreign key references Vendedor (cpf),\n",
    "                id_produto int foreign key references Produto (id),\n",
    "                quantidade int,\n",
    "                preco decimal\n",
    "            );\n",
    "        '''\n",
    "        with self.conexao:\n",
    "            self.conexao.execute (ddl)\n",
    "         #a palavra reservada “with” funciona como uma instrução “finally” de um bloco “try”. Desse modo, ela é usada para garantir a finalização de recurso adquiridos. Neste exemplo, ela                 #garante que “self.conexao.commit ()” seja chamado automaticamente quando a execução sair do bloco “with”. Entretanto, “self.conexao.close ()” não será chamado ao sair do bloco “with”.           #As conexões e os cursores são fechados automaticamente quando são excluídos (normalmente quando saem de escopo). Portanto, normalmente não é necessário chamar [conexao.close () ou               #cursor.close ()], mas é possível fechá-los explicitamente caso isso seja desejado.\n",
    "\n",
    "tables = Tables (conexao)\n",
    "tables.criar ()\n"
   ]
  },
  {
   "cell_type": "code",
   "execution_count": 75,
   "metadata": {
    "tags": []
   },
   "outputs": [
    {
     "output_type": "stream",
     "name": "stdout",
     "text": "None\n"
    }
   ],
   "source": [
    "# Classe Select1:\n",
    "class Select1:\n",
    "    def __init__ (self, conexao):\n",
    "        self.conexao = conexao\n",
    "\n",
    "    def do (self):\n",
    "        ddl = '''\n",
    "            -- Ler os registros da tabela Categoria:\n",
    "            select * from Categoria\n",
    "        '''\n",
    "        with self.conexao:\n",
    "            self.conexao.execute (ddl)\n",
    "         #a palavra reservada “with” funciona como uma instrução “finally” de um bloco “try”. Desse modo, ela é usada para garantir a finalização de recurso adquiridos. Neste exemplo, ela                 #garante que “self.conexao.commit ()” seja chamado automaticamente quando a execução sair do bloco “with”. Entretanto, “self.conexao.close ()” não será chamado ao sair do bloco “with”.           #As conexões e os cursores são fechados automaticamente quando são excluídos (normalmente quando saem de escopo). Portanto, normalmente não é necessário chamar [conexao.close () ou               #cursor.close ()], mas é possível fechá-los explicitamente caso isso seja desejado.\n",
    "\n",
    "select = Select1 (conexao)\n",
    "#select.do ()\n",
    "print(select.do())"
   ]
  },
  {
   "cell_type": "code",
   "execution_count": 4,
   "metadata": {
    "tags": []
   },
   "outputs": [
    {
     "output_type": "stream",
     "name": "stdout",
     "text": [
      "None\n"
     ]
    }
   ],
   "source": [
    "# Classe Select2:\n",
    "class Select2:\n",
    "    def __init__ (self, conexao):\n",
    "        self.conexao = conexao\n",
    "\n",
    "    def do (self):\n",
    "        ddl = '''\n",
    "            -- Ler os registros da tabela Vendedor:\n",
    "            select * from Vendedor\n",
    "        '''\n",
    "        with self.conexao:\n",
    "            self.conexao.execute (ddl)\n",
    "         #a palavra reservada “with” funciona como uma instrução “finally” de um bloco “try”. Desse modo, ela é usada para garantir a finalização de recurso adquiridos. Neste exemplo, ela                 #garante que “self.conexao.commit ()” seja chamado automaticamente quando a execução sair do bloco “with”. Entretanto, “self.conexao.close ()” não será chamado ao sair do bloco “with”.           #As conexões e os cursores são fechados automaticamente quando são excluídos (normalmente quando saem de escopo). Portanto, normalmente não é necessário chamar [conexao.close () ou               #cursor.close ()], mas é possível fechá-los explicitamente caso isso seja desejado.\n",
    "\n",
    "select = Select2 (conexao)\n",
    "#select.do ()\n",
    "print(select.do())"
   ]
  },
  {
   "cell_type": "code",
   "execution_count": 73,
   "metadata": {
    "tags": []
   },
   "outputs": [
    {
     "output_type": "stream",
     "name": "stdout",
     "text": "None\n"
    }
   ],
   "source": [
    "# Classe Select3:\n",
    "class Select3:\n",
    "    def __init__ (self, conexao):\n",
    "        self.conexao = conexao\n",
    "\n",
    "    def do (self):\n",
    "        ddl = '''\n",
    "            -- Ler os registros da tabela Produto:\n",
    "            select * from Produto\n",
    "        '''\n",
    "        with self.conexao:\n",
    "            self.conexao.execute (ddl)\n",
    "         #a palavra reservada “with” funciona como uma instrução “finally” de um bloco “try”. Desse modo, ela é usada para garantir a finalização de recurso adquiridos. Neste exemplo, ela                 #garante que “self.conexao.commit ()” seja chamado automaticamente quando a execução sair do bloco “with”. Entretanto, “self.conexao.close ()” não será chamado ao sair do bloco “with”.           #As conexões e os cursores são fechados automaticamente quando são excluídos (normalmente quando saem de escopo). Portanto, normalmente não é necessário chamar [conexao.close () ou               #cursor.close ()], mas é possível fechá-los explicitamente caso isso seja desejado.\n",
    "\n",
    "select = Select3 (conexao)\n",
    "#select.do ()\n",
    "print(select.do())"
   ]
  },
  {
   "cell_type": "code",
   "execution_count": 5,
   "metadata": {
    "tags": []
   },
   "outputs": [
    {
     "output_type": "stream",
     "name": "stdout",
     "text": [
      "None\n"
     ]
    }
   ],
   "source": [
    "# Classe Select4:\n",
    "class Select4:\n",
    "    def __init__ (self, conexao):\n",
    "        self.conexao = conexao\n",
    "\n",
    "    def do (self):\n",
    "        ddl = '''\n",
    "            -- Ler os registros da tabela VendedorProduto:\n",
    "            select * from VendedorProduto\n",
    "        '''\n",
    "        with self.conexao:\n",
    "            self.conexao.execute (ddl)\n",
    "         #a palavra reservada “with” funciona como uma instrução “finally” de um bloco “try”. Desse modo, ela é usada para garantir a finalização de recurso adquiridos. Neste exemplo, ela                 #garante que “self.conexao.commit ()” seja chamado automaticamente quando a execução sair do bloco “with”. Entretanto, “self.conexao.close ()” não será chamado ao sair do bloco “with”.           #As conexões e os cursores são fechados automaticamente quando são excluídos (normalmente quando saem de escopo). Portanto, normalmente não é necessário chamar [conexao.close () ou               #cursor.close ()], mas é possível fechá-los explicitamente caso isso seja desejado.\n",
    "\n",
    "select = Select4 (conexao)\n",
    "#select.do ()\n",
    "print(select.do())"
   ]
  },
  {
   "cell_type": "code",
   "execution_count": null,
   "metadata": {},
   "outputs": [],
   "source": []
  }
 ]
}