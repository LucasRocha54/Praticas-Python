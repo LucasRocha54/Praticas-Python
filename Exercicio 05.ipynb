{
 "metadata": {
  "language_info": {
   "codemirror_mode": {
    "name": "ipython",
    "version": 3
   },
   "file_extension": ".py",
   "mimetype": "text/x-python",
   "name": "python",
   "nbconvert_exporter": "python",
   "pygments_lexer": "ipython3",
   "version": "3.8.3-final"
  },
  "orig_nbformat": 2,
  "kernelspec": {
   "name": "python3",
   "display_name": "Python 3.8.3 64-bit ('lucas': virtualenv)",
   "metadata": {
    "interpreter": {
     "hash": "8003219c8c57211ee3be347d121ba14ebad7276cdae3d94be72d9e4e17f9edd5"
    }
   }
  }
 },
 "nbformat": 4,
 "nbformat_minor": 2,
 "cells": [
  {
   "cell_type": "code",
   "execution_count": 5,
   "metadata": {},
   "outputs": [],
   "source": [
    "# Importar biblioteca pyodbc:\n",
    "import pyodbc"
   ]
  },
  {
   "cell_type": "code",
   "execution_count": 6,
   "metadata": {},
   "outputs": [],
   "source": [
    "# Classe para conexão com o banco de dados:\n",
    "class ConexaoBD ():\n",
    "    def conectar (self):\n",
    "        return pyodbc.connect (driver = '{SQL Server Native Client 11.0}', server = 'LUCASROCHA', database = 'empresa', trusted_connection = 'yes', uid = 'Lucas Willian')"
   ]
  },
  {
   "cell_type": "code",
   "execution_count": 7,
   "metadata": {},
   "outputs": [],
   "source": [
    "# Instanciar um objeto da classe para conexão com o banco de dados:\n",
    "bd = ConexaoBD ()\n",
    "# Pegar uma conexão com o banco de dados:\n",
    "conexao = bd.conectar ()"
   ]
  },
  {
   "cell_type": "code",
   "execution_count": 8,
   "metadata": {},
   "outputs": [],
   "source": [
    "# Classe Produto:\n",
    "class Produto:\n",
    "    def __init__ (self, conexao):\n",
    "        self.conexao = conexao\n",
    " \n",
    "    def inserir (self):\n",
    "        dml = \"insert into Produto (nome, descricao,marca) values (?, ?, ?);\"\n",
    "        nome = input (\"Informe o nome do produto: \")\n",
    "        descricao = input (\"Informe a descrição do produto: \")\n",
    "        marca = input (\"Informe a marca do produto: \")\n",
    "        with self.conexao:\n",
    "            cursor = self.conexao.cursor ()\n",
    "            cursor.execute (dml, nome, descricao, marca)\n",
    "            # self.conexao.commit ()\n",
    "            sql = \"select * from Produto;\"\n",
    "            cursor.execute (sql)\n",
    "            linhas = cursor.fetchall ()\n",
    "            return linhas"
   ]
  },
  {
   "cell_type": "code",
   "execution_count": 10,
   "metadata": {
    "tags": []
   },
   "outputs": [
    {
     "output_type": "stream",
     "name": "stdout",
     "text": "[(1, 'Tenis', 'Calçado', 'Nike', None), (2, '', '', '', None)]\n"
    }
   ],
   "source": [
    "# Instaciar objeto da classe Produto:\n",
    "produto = Produto (conexao)\n",
    "# Inserir um registro no banco de dados:\n",
    "linha = produto.inserir ()\n",
    "# Apresentar na tela o registro inserido no banco de dados:\n",
    "print (linha)"
   ]
  },
  {
   "cell_type": "code",
   "execution_count": 11,
   "metadata": {},
   "outputs": [],
   "source": [
    "# Classe Produto Update:\n",
    "class ProdutoUpdate:\n",
    "    def __init__ (self, conexao):\n",
    "        self.conexao = conexao\n",
    " \n",
    "    def update (self):\n",
    "        dml = \"update Produto set marca = (?) where marca = (?);\"\n",
    "        marcaat = input (\"Informe a antiga marca do produto: \")\n",
    "        marcanv = input (\"Informe a nova marca do produto: \")\n",
    "        with self.conexao:\n",
    "            cursor = self.conexao.cursor ()\n",
    "            cursor.execute (dml, marcanv, marcaat)\n",
    "            # self.conexao.commit ()\n",
    "            sql = \"select * from Produto;\"\n",
    "            cursor.execute (sql)\n",
    "            linhas = cursor.fetchall ()\n",
    "            return linhas"
   ]
  },
  {
   "cell_type": "code",
   "execution_count": 12,
   "metadata": {
    "tags": []
   },
   "outputs": [
    {
     "output_type": "stream",
     "name": "stdout",
     "text": "[(1, 'Tenis', 'Calçado', 'Nike', None), (2, '', '', 'Adidas', None)]\n"
    }
   ],
   "source": [
    "# Instaciar objeto da classe ProdutoUpdate:\n",
    "produtoUp = ProdutoUpdate (conexao)\n",
    "# alterar um registro no banco de dados:\n",
    "linha = produtoUp.update ()\n",
    "# Apresentar na tela o registro alterado no banco de dados:\n",
    "print (linha)"
   ]
  },
  {
   "cell_type": "code",
   "execution_count": 18,
   "metadata": {},
   "outputs": [],
   "source": [
    "# Classe Produto Delete:\n",
    "class ProdutoDelete:\n",
    "    def __init__ (self, conexao):\n",
    "        self.conexao = conexao\n",
    " \n",
    "    def delete (self):\n",
    "        dml = \"DELETE FROM Produto WHERE id = (?) ;\"\n",
    "        what = input (\"Informe o codigo do produto: \")\n",
    "        with self.conexao:\n",
    "            cursor = self.conexao.cursor ()\n",
    "            cursor.execute (dml, what)\n",
    "            # self.conexao.commit ()\n",
    "            sql = \"select * from Produto;\"\n",
    "            cursor.execute (sql)\n",
    "            linhas = cursor.fetchall ()\n",
    "            return linhas"
   ]
  },
  {
   "cell_type": "code",
   "execution_count": 19,
   "metadata": {
    "tags": []
   },
   "outputs": [
    {
     "output_type": "stream",
     "name": "stdout",
     "text": "[(1, 'Tenis', 'Calçado', 'Nike', None)]\n"
    }
   ],
   "source": [
    "# Instaciar objeto da classe ProdutoDelete:\n",
    "produtoDel = ProdutoDelete (conexao)\n",
    "# Deletar um registro no banco de dados:\n",
    "linha = produtoDel.delete ()\n",
    "# Apresentar na tela o registro do banco de dados:\n",
    "print (linha)"
   ]
  },
  {
   "cell_type": "code",
   "execution_count": null,
   "metadata": {},
   "outputs": [],
   "source": []
  }
 ]
}